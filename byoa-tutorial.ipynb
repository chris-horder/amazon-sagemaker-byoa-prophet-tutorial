{
 "cells": [
  {
   "cell_type": "markdown",
   "metadata": {},
   "source": [
    "# BYOA Tutorial - Prophet Forecasting en Sagemaker\n",
    "\n",
    "The following notebook shows how to integrate your own algorithms to Amazon Sagemaker. We are going to go the way of putting together an inference pipeline on the Prophet algorithm for time series. The algorithm is installed in a docker container and then it helps us to train the model and make inferences on an endpoint.\n"
   ]
  },
  {
   "cell_type": "markdown",
   "metadata": {},
   "source": [
    "## Step 1: Assemble the dataset\n",
    "\n",
    "We are going to work with a public dataset that we must download from Kaggle. This dataset is called: Avocado Prices: Historical data on avocado prices and sales volume in multiple US markets and can be downloaded from: https://www.kaggle.com/neuromusic/avocado-prices/download Once downloaded, we must upload it to the same directory where we are running this notebook. The following code prepares the dataset so that Prophet can understand it:"
   ]
  },
  {
   "cell_type": "code",
   "execution_count": 1,
   "metadata": {},
   "outputs": [],
   "source": [
    "import pandas as pd\n",
    "\n",
    "# We are left with only the date and the sales\n",
    "df = pd.read_csv('avocado.csv')\n",
    "df = df[['Date', 'AveragePrice']].dropna()\n",
    "\n",
    "df['Date'] = pd.to_datetime(df['Date'])\n",
    "df = df.set_index('Date')\n",
    "\n",
    "# We leave 1 single record per day with the average sales\n",
    "daily_df = df.resample('D').mean()\n",
    "d_df = daily_df.reset_index().dropna()\n",
    "\n",
    "# We format the column names as Prophet expects them\n",
    "d_df = d_df[['Date', 'AveragePrice']]\n",
    "d_df.columns = ['ds', 'y']\n",
    "d_df.head()\n",
    "\n",
    "# We save the resulting dataset as avocado_daily.csv\n",
    "d_df.to_csv(\"avocado_daily.csv\",index = False , columns = ['ds', 'y'] )"
   ]
  },
  {
   "cell_type": "markdown",
   "metadata": {},
   "source": [
    "# Step 2: Package and Upload the Algorithm for Use with Amazon SageMaker\n",
    "\n",
    "\n",
    "### An overview of Docker\n",
    "\n",
    "Docker provides a simple way to package code into an _image_ that is completely self-contained. Once you have an image, you can use Docker to run a _container_ based on that image. Running a container is the same as running a program on the machine, except that the container creates a completely self-contained environment for the program to run. Containers are isolated from each other and from the host environment, so the way you configure the program is the way it runs, no matter where you run it.\n",
    "\n",
    "Docker is more powerful than environment managers like conda or virtualenv because (a) it is completely language independent and (b) it understands your entire operating environment, including startup commands, environment variables, etc.\n",
    "\n",
    "In some ways, a Docker container is like a virtual machine, but it is much lighter. For example, a program that runs in one container can start in less than a second, and many containers can run on the same physical machine or virtual machine instance.\n",
    "\n",
    "Docker uses a simple file called `Dockerfile` to specify how the image is assembled.\n",
    "Amazon SagMaker uses Docker to allow users to train and implement algorithms.\n",
    "\n",
    "In Amazon SageMaker, Docker containers are invoked in a certain way for training and in a slightly different way for hosting. The following sections describe how to create containers for the SageMaker environment.\n",
    "\n",
    "\n",
    "### How Amazon SageMaker runs the Docker container\n",
    "\n",
    "Because it can run the same image in training or hosting, Amazon SageMaker runs the container with the `train` or` serve` argument. How your container processes this argument depends on the container:\n",
    "\n",
    "* In the example here, we did not define an ʻENTRYPOINT ʻin the Dockerfile for Docker to execute the `train` command at training time and` serve` at service time. In this example, we define them as executable Python scripts, but they could be any program that we want to start in that environment.\n",
    "* If you specify a program as \"ENTRYPOINT\" in the Dockerfile, that program will run at startup and its first argument will be either `train` or` serve`. The program can then examine that argument and decide what to do.\n",
    "* If you are building separate containers for training and hosting (or building just for one or the other), you can define a program as \"ENTRYPOINT\" in the Dockerfile and ignore (or check) the first argument passed.\n",
    "\n",
    "#### Run container during training\n",
    "\n",
    "When Amazon SageMaker runs the training, the `train` script runs like a regular Python program. A series of files are arranged for your use, under the `/ opt / ml` directory:\n",
    "\n",
    "    /opt/ml\n",
    "    ├── input\n",
    "    │   ├── config\n",
    "    │   │   ├── hyperparameters.json\n",
    "    │   │   └── resourceConfig.json\n",
    "    │   └── data\n",
    "    │       └── <channel_name>\n",
    "    │           └── <input data>\n",
    "    ├── model\n",
    "    │   └── <model files>\n",
    "    └── output\n",
    "        └── failure\n",
    "\n",
    "\n",
    "##### The entrance\n",
    "\n",
    "* `/ opt / ml / input / config` contains information to control how the program runs. `hyperparameters.json` is a JSON-formatted dictionary of hyperparameter names to values. These values ​​will always be strings, so you may need to convert them. `ResourceConfig.json` is a JSON-formatted file that describes the network layout used for distributed training. Since scikit-learn does not support distributed training, we will ignore it here.\n",
    "* `/ opt / ml / input / data / <channel_name> /` (for File mode) contains the input data for that channel. Channels are created based on the call to CreateTrainingJob, but it is generally important that the channels match what the algorithm expects. The files for each channel will be copied from S3 to this directory, preserving the tree structure indicated by the S3 key structure.\n",
    "* `/ opt / ml / input / data / <channel_name> _ <epoch_number>` (for Pipe mode) is the pipe for a given epoch. The epochs start at zero and go up by one each time you read them. There is no limit to the number of epochs you can run, but you must close each pipe before reading the next epoch.\n",
    "    \n",
    "##### The exit\n",
    "\n",
    "* `/ opt / ml / model /` is the directory where the model generated by your algorithm is written. Your model can be in any format you want. It can be a single file or an entire directory tree. SagMaker will package any files in this directory into a compressed tar file. This file will be available in the S3 location returned in the `DescribeTrainingJob` output.\n",
    "* `/ opt / ml / output` is a directory where the algorithm can write a` failure` file that describes why the job failed. The content of this file will be returned in the `FailureReason` field of the` DescribeTrainingJob` result. For successful jobs, there is no reason to write this file as it will be ignored.\n",
    "\n",
    "#### Running the container during hosting\n",
    "\n",
    "Hosting has a very different model than training because it must respond to inference requests that arrive through HTTP. In this example, we use recommended Python code to provide a robust and scalable inference request service:\n",
    "\n",
    "Amazon SagMaker uses two URLs in the container:\n",
    "\n",
    "* `/ ping` will receive` GET` requests from the infrastructure. Returns 200 if the container is open and accepting requests.\n",
    "* `/ invocations` is the endpoint that receives inference` POST` requests from the client. The format of the request and the response depends on the algorithm. If the client supplied the `ContentType` and ʻccept` headers, these will also be passed.\n",
    "\n",
    "The container will have the model files in the same place where they were written during training:\n",
    "\n",
    "    /opt/ml\n",
    "    └── model\n",
    "        └── <model files>\n"
   ]
  },
  {
   "cell_type": "markdown",
   "metadata": {},
   "source": [
    "### Container Parts\n",
    "\n",
    "In the `container` directory are all the components you need to package the sample algorithm for Amazon SageManager:\n",
    "\n",
    "    .\n",
    "    ├── Dockerfile\n",
    "    ├── build_and_push.sh\n",
    "    └── decision_trees\n",
    "        ├── nginx.conf\n",
    "        ├── predictor.py\n",
    "        ├── serve\n",
    "        ├── train\n",
    "        └── wsgi.py\n",
    "\n",
    "\n",
    "Vamos a ver cada uno:\n",
    "\n",
    "Let's see each one:\n",
    "\n",
    "* __`Dockerfile`__ describes how to build the Docker container image. More details below.\n",
    "* __`build_and_push.sh`__ is a script that uses Dockerfile to build its container images and then publishes (push) it to ECR. We will invoke the commands directly later in this notebook, but you can copy and run the script for other algorithms.\n",
    "* __`prophet`__ is the directory that contains the files to be installed in the container.\n",
    "* __`local_test`__ is a directory that shows how to test the new container on any machine that can run Docker, including an Amazon SageMaker Notebook Instance. With this method, you can quickly iterate using small data sets to eliminate any structural errors before using the container with Amazon SageMaker.\n",
    "\n",
    "The files that we are going to put in the container are:\n",
    "\n",
    "* __`nginx.conf`__ is the configuration file for the nginx front-end. Generally, you should be able to take this file as is.\n",
    "* __`predictor.py`__ is the program that actually implements the Flask web server and Prophet predictions for this application.\n",
    "* __`serve`__ is the program started when the hosting container starts. It just launches the gunicorn server that runs multiple instances of the Flask application defined in `predictor.py`. You should be able to take this file as is.\n",
    "* __`train`__ is the program that is invoked when the container for training is executed.\n",
    "* __`wsgi.py`__ is a small wrapper used to invoke the Flask application. You should be able to take this file as is.\n",
    "\n",
    "In summary, the two Prophet-specific code files are `train` and` predictor.py`."
   ]
  },
  {
   "cell_type": "markdown",
   "metadata": {},
   "source": [
    "### The Dockerfile file\n",
    "\n",
    "The Dockerfile file describes the image we want to create. It is a description of the complete installation of the operating system of the system you want to run. A running Docker container is significantly lighter than a full operating system, however, because it leverages Linux on the host machine for basic operations.\n",
    "\n",
    "For this example, we will start from a standard Ubuntu installation and run the normal tools to install the things Prophet needs. Finally, we add the code that implements Prophet to the container and configure the correct environment to run correctly.\n",
    "\n",
    "The following is the Dockerfile:"
   ]
  },
  {
   "cell_type": "code",
   "execution_count": 2,
   "metadata": {},
   "outputs": [
    {
     "name": "stdout",
     "output_type": "stream",
     "text": [
      "# Build an image that can do training and inference in SageMaker\n",
      "# This is a Python 3 image that uses the nginx, gunicorn, flask stack\n",
      "# for serving inferences in a stable way.\n",
      "\n",
      "FROM ubuntu:16.04\n",
      "\n",
      "MAINTAINER Amazon AI <sage-learner@amazon.com>\n",
      "\n",
      "RUN apt-get -y update && apt-get install -y --no-install-recommends \\\n",
      "         wget \\\n",
      "         curl \\\n",
      "         python-dev \\\n",
      "         build-essential libssl-dev libffi-dev \\\n",
      "         libxml2-dev libxslt1-dev zlib1g-dev \\\n",
      "         nginx \\\n",
      "         ca-certificates \\\n",
      "    && rm -rf /var/lib/apt/lists/*\n",
      "\n",
      "RUN curl -fSsL -O https://bootstrap.pypa.io/get-pip.py && \\\n",
      "    python get-pip.py && \\\n",
      "    rm get-pip.py\n",
      " \n",
      "RUN pip --no-cache-dir install \\\n",
      "        numpy \\\n",
      "        scipy \\\n",
      "        sklearn \\\n",
      "        pandas \\\n",
      "        flask \\\n",
      "        gevent \\\n",
      "        gunicorn \\\n",
      "        pystan \n",
      "\n",
      "RUN pip --no-cache-dir install \\\n",
      "        fbprophet \n",
      "        \n",
      "ENV PYTHONUNBUFFERED=TRUE\n",
      "ENV PYTHONDONTWRITEBYTECODE=TRUE\n",
      "ENV PATH=\"/opt/program:${PATH}\"\n",
      "\n",
      "# Set up the program in the image\n",
      "COPY prophet /opt/program\n",
      "WORKDIR /opt/program\n",
      "\n"
     ]
    }
   ],
   "source": [
    "!cat container/Dockerfile"
   ]
  },
  {
   "cell_type": "markdown",
   "metadata": {},
   "source": [
    "### El archivo train\n",
    "\n",
    "The train file describes the way we are going to do the training.\n",
    "The Prophet-Docker / container / prophet / train file contains the specific training code for Prophet.\n",
    "We must modify the train () function in the following way:\n",
    "\n",
    "    def train():\n",
    "        print('Starting the training.')\n",
    "        try:\n",
    "            # Read in any hyperparameters that the user passed with the training job\n",
    "            with open(param_path, 'r') as tc:\n",
    "                trainingParams = json.load(tc)\n",
    "            # Take the set of files and read them all into a single pandas dataframe\n",
    "            input_files = [ os.path.join(training_path, file) for file in os.listdir(training_path) ]\n",
    "            if len(input_files) == 0:\n",
    "                raise ValueError(('There are no files in {}.\\n' +\n",
    "                                  'This usually indicates that the channel ({}) was incorrectly specified,\\n' +\n",
    "                                  'the data specification in S3 was incorrectly specified or the role specified\\n' +\n",
    "                                  'does not have permission to access the data.').format(training_path, channel_name))\n",
    "            raw_data = [ pd.read_csv(file, error_bad_lines=False ) for file in input_files ]\n",
    "            train_data = pd.concat(raw_data)\n",
    "            train_data.columns = ['ds', 'y']\n",
    "\n",
    "            # Usamos Prophet para entrenar el modelo.\n",
    "            clf = Prophet()\n",
    "            clf = clf.fit(train_data)\n",
    "\n",
    "            # save the model\n",
    "            with open(os.path.join(model_path, 'prophet-model.pkl'), 'w') as out:\n",
    "                pickle.dump(clf, out)\n",
    "            print('Training complete.')\n"
   ]
  },
  {
   "cell_type": "markdown",
   "metadata": {},
   "source": [
    "### El archivo predictor.py\n",
    "\n",
    "The predictor.py file describes the way we are going to make predictions.\n",
    "The file Prophet-Docker / container / prophet / predictor.py contains the specific prediction code for Prophet.\n",
    "We must modify the predict () function in the following way:\n",
    "\n",
    "    def predict(cls, input):\n",
    "        \"\"\"For the input, do the predictions and return them.\n",
    "\n",
    "        Args:\n",
    "            input (a pandas dataframe): The data on which to do the predictions. There will be\n",
    "                one prediction per row in the dataframe\"\"\"\n",
    "        clf = cls.get_model()\n",
    "        future = clf.make_future_dataframe(periods=int(input.iloc[0]))\n",
    "        print(int(input.iloc[0]))\n",
    "        print(input)\n",
    "        forecast = clf.predict(future)\n",
    "              \n",
    "        return forecast.tail(int(input.iloc[0]))\n",
    "\n",
    "\n",
    "\n",
    "And then the transformation () function as follows:\n",
    "\n",
    "    def transformation():\n",
    "        \"\"\"Do an inference on a single batch of data. In this sample server, we take data as CSV, convert\n",
    "        it to a pandas data frame for internal use and then convert the predictions back to CSV (which really\n",
    "        just means one prediction per line, since there's a single column.\n",
    "        \"\"\"\n",
    "        data = None\n",
    "\n",
    "        # Convert from CSV to pandas\n",
    "        if flask.request.content_type == 'text/csv':\n",
    "            data = flask.request.data.decode('utf-8')\n",
    "            s = StringIO.StringIO(data)\n",
    "            data = pd.read_csv(s, header=None)\n",
    "        else:\n",
    "            return flask.Response(response='This predictor only supports CSV data', status=415, mimetype='text/plain')\n",
    "\n",
    "        print('Invoked with {} records'.format(data.shape[0]))\n",
    "\n",
    "        # Do the prediction\n",
    "        predictions = ScoringService.predict(data)\n",
    "\n",
    "        # Convert from numpy back to CSV\n",
    "        out = StringIO.StringIO()\n",
    "        pd.DataFrame({'results':[predictions]}, index=[0]).to_csv(out, header=False, index=False)\n",
    "        result = out.getvalue()\n",
    "\n",
    "        return flask.Response(response=result, status=200, mimetype='text/csv')\n",
    " \n",
    "\n",
    "Basically we modify the line:\n",
    "\n",
    "        pd.DataFrame({'results':predictions}).to_csv(out, header=False, index=False)\n",
    " \n",
    "By the line:\n",
    "\n",
    "        pd.DataFrame({'results':[predictions]}, index=[0]).to_csv(out, header=False, index=False)\n"
   ]
  },
  {
   "cell_type": "markdown",
   "metadata": {},
   "source": [
    "\n",
    "# Part 3: Using Prophet in Amazon SageMaker\n",
    "Now that we have all the files created, we are going to use Prophet in Sagemaker\n",
    "\n",
    "## Container assembly\n",
    "We start by building and registering the container"
   ]
  },
  {
   "cell_type": "code",
   "execution_count": 3,
   "metadata": {},
   "outputs": [
    {
     "name": "stdout",
     "output_type": "stream",
     "text": [
      "Login Succeeded\n",
      "Sending build context to Docker daemon  63.49kB\n",
      "Step 1/11 : FROM ubuntu:16.04\n",
      " ---> c6a43cd4801e\n",
      "Step 2/11 : MAINTAINER Amazon AI <sage-learner@amazon.com>\n",
      " ---> Using cache\n",
      " ---> c0ea7ed783e7\n",
      "Step 3/11 : RUN apt-get -y update && apt-get install -y --no-install-recommends          wget          curl          python-dev          build-essential libssl-dev libffi-dev          libxml2-dev libxslt1-dev zlib1g-dev          nginx          ca-certificates     && rm -rf /var/lib/apt/lists/*\n",
      " ---> Using cache\n",
      " ---> 17bd5ae1900b\n",
      "Step 4/11 : RUN curl -fSsL -O https://bootstrap.pypa.io/get-pip.py &&     python get-pip.py &&     rm get-pip.py\n",
      " ---> Using cache\n",
      " ---> e1f1939e31e1\n",
      "Step 5/11 : RUN pip --no-cache-dir install         numpy         scipy         sklearn         pandas         flask         gevent         gunicorn         pystan\n",
      " ---> Using cache\n",
      " ---> 8ff73a969fc2\n",
      "Step 6/11 : RUN pip --no-cache-dir install         fbprophet\n",
      " ---> Using cache\n",
      " ---> 815dc3862860\n",
      "Step 7/11 : ENV PYTHONUNBUFFERED=TRUE\n",
      " ---> Using cache\n",
      " ---> 35c7a5aac761\n",
      "Step 8/11 : ENV PYTHONDONTWRITEBYTECODE=TRUE\n",
      " ---> Using cache\n",
      " ---> ef336e62f7f5\n",
      "Step 9/11 : ENV PATH=\"/opt/program:${PATH}\"\n",
      " ---> Using cache\n",
      " ---> 290851f5e67b\n",
      "Step 10/11 : COPY prophet /opt/program\n",
      " ---> Using cache\n",
      " ---> 4b6b9e299087\n",
      "Step 11/11 : WORKDIR /opt/program\n",
      " ---> Using cache\n",
      " ---> fe21109f123a\n",
      "Successfully built fe21109f123a\n",
      "Successfully tagged sagemaker-prophet:latest\n",
      "The push refers to repository [563487891580.dkr.ecr.us-east-1.amazonaws.com/sagemaker-prophet]\n",
      "00236715c809: Preparing\n",
      "15d05e86afe8: Preparing\n",
      "168ec802cd02: Preparing\n",
      "e5e30443c428: Preparing\n",
      "022ecae92fcb: Preparing\n",
      "77008e118980: Preparing\n",
      "6cb741cb00b7: Preparing\n",
      "f36b28e4310d: Preparing\n",
      "91d23cf5425a: Preparing\n",
      "f36b28e4310d: Waiting\n",
      "91d23cf5425a: Waiting\n",
      "77008e118980: Waiting\n",
      "6cb741cb00b7: Waiting\n",
      "e5e30443c428: Layer already exists\n",
      "022ecae92fcb: Layer already exists\n",
      "168ec802cd02: Layer already exists\n",
      "15d05e86afe8: Layer already exists\n",
      "00236715c809: Layer already exists\n",
      "77008e118980: Layer already exists\n",
      "6cb741cb00b7: Layer already exists\n",
      "91d23cf5425a: Layer already exists\n",
      "f36b28e4310d: Layer already exists\n",
      "latest: digest: sha256:92c9042b85d712100a6b73c3ab8257944a85f1e46a8d69f78b1dbbb72427f031 size: 2207\n"
     ]
    },
    {
     "name": "stderr",
     "output_type": "stream",
     "text": [
      "WARNING! Using --password via the CLI is insecure. Use --password-stdin.\n",
      "WARNING! Your password will be stored unencrypted in /home/ec2-user/.docker/config.json.\n",
      "Configure a credential helper to remove this warning. See\n",
      "https://docs.docker.com/engine/reference/commandline/login/#credentials-store\n",
      "\n"
     ]
    },
    {
     "name": "stdout",
     "output_type": "stream",
     "text": [
      "CPU times: user 9.27 ms, sys: 594 µs, total: 9.87 ms\n",
      "Wall time: 2.64 s\n"
     ]
    }
   ],
   "source": [
    "%%time\n",
    "%%sh\n",
    "\n",
    "# The name of our algorithm\n",
    "algorithm_name=sagemaker-prophet\n",
    "\n",
    "cd container\n",
    "\n",
    "chmod +x prophet/train\n",
    "chmod +x prophet/serve\n",
    "\n",
    "account=$(aws sts get-caller-identity --query Account --output text)\n",
    "\n",
    "# Get the region defined in the current configuration (default to us-west-2 if none defined)\n",
    "region=$(aws configure get region)\n",
    "region=${region:-us-west-2}\n",
    "\n",
    "fullname=\"${account}.dkr.ecr.${region}.amazonaws.com/${algorithm_name}:latest\"\n",
    "\n",
    "# If the repository doesn't exist in ECR, create it.\n",
    "aws ecr describe-repositories --repository-names \"${algorithm_name}\" > /dev/null 2>&1\n",
    "\n",
    "if [ $? -ne 0 ]\n",
    "then\n",
    "    aws ecr create-repository --repository-name \"${algorithm_name}\" > /dev/null\n",
    "fi\n",
    "\n",
    "# Get the login command from ECR and execute it directly\n",
    "$(aws ecr get-login --region ${region} --no-include-email)\n",
    "\n",
    "# Build the docker image locally with the image name and then push it to ECR\n",
    "# with the full name.\n",
    "\n",
    "docker build  -t ${algorithm_name} .\n",
    "docker tag ${algorithm_name} ${fullname}\n",
    "\n",
    "docker push ${fullname}"
   ]
  },
  {
   "cell_type": "markdown",
   "metadata": {},
   "source": [
    "## Building the Training Environment\n",
    "We initialize the session, execution role."
   ]
  },
  {
   "cell_type": "code",
   "execution_count": 4,
   "metadata": {},
   "outputs": [
    {
     "name": "stdout",
     "output_type": "stream",
     "text": [
      "CPU times: user 408 ms, sys: 40.3 ms, total: 448 ms\n",
      "Wall time: 503 ms\n"
     ]
    }
   ],
   "source": [
    "%%time\n",
    "import boto3\n",
    "import re\n",
    "\n",
    "import os\n",
    "import numpy as np\n",
    "import pandas as pd\n",
    "from sagemaker import get_execution_role\n",
    "\n",
    "import sagemaker as sage\n",
    "from time import gmtime, strftime\n",
    "\n",
    "\n",
    "prefix = 'DEMO-prophet-byo'\n",
    "role = get_execution_role()\n",
    "sess = sage.Session()\n"
   ]
  },
  {
   "cell_type": "markdown",
   "metadata": {},
   "source": [
    "\n",
    "# We upload the data to S3"
   ]
  },
  {
   "cell_type": "code",
   "execution_count": 5,
   "metadata": {},
   "outputs": [],
   "source": [
    "WORK_DIRECTORY = 'data'\n",
    "data_location = sess.upload_data(WORK_DIRECTORY, key_prefix=prefix)"
   ]
  },
  {
   "cell_type": "markdown",
   "metadata": {},
   "source": [
    "## We train the model\n",
    "Using the data uploaded to S3, we train the model by raising an ml.c4.2xlarge instance.\n",
    "Sagemaker will leave the trained model in the / output directory"
   ]
  },
  {
   "cell_type": "code",
   "execution_count": 6,
   "metadata": {},
   "outputs": [
    {
     "name": "stdout",
     "output_type": "stream",
     "text": [
      "2019-12-27 16:00:08 Starting - Starting the training job...\n",
      "2019-12-27 16:00:09 Starting - Launching requested ML instances......\n",
      "2019-12-27 16:01:13 Starting - Preparing the instances for training...\n",
      "2019-12-27 16:01:58 Downloading - Downloading input data\n",
      "2019-12-27 16:01:58 Training - Downloading the training image...\n",
      "2019-12-27 16:02:34 Training - Training image download completed. Training in progress..\u001b[34mINFO:matplotlib.font_manager:font search path ['/usr/local/lib/python2.7/dist-packages/matplotlib/mpl-data/fonts/ttf', '/usr/local/lib/python2.7/dist-packages/matplotlib/mpl-data/fonts/afm', '/usr/local/lib/python2.7/dist-packages/matplotlib/mpl-data/fonts/pdfcorefonts']\u001b[0m\n",
      "\u001b[34mINFO:matplotlib.font_manager:generated new fontManager\u001b[0m\n",
      "\u001b[34mERROR:fbprophet:Importing matplotlib failed. Plotting will not work.\u001b[0m\n",
      "\u001b[34mERROR:fbprophet:Importing plotly failed. Interactive plots will not work.\u001b[0m\n",
      "\u001b[34mStarting the training.\u001b[0m\n",
      "\u001b[34mINFO:fbprophet:Disabling weekly seasonality. Run prophet with weekly_seasonality=True to override this.\u001b[0m\n",
      "\u001b[34mINFO:fbprophet:Disabling daily seasonality. Run prophet with daily_seasonality=True to override this.\u001b[0m\n",
      "\u001b[34mInitial log joint probability = -2.69053\n",
      "    Iter      log prob        ||dx||      ||grad||       alpha      alpha0  # evals  Notes \n",
      "      99       450.532    0.00314344       85.9671       2.069      0.2069      135   \n",
      "    Iter      log prob        ||dx||      ||grad||       alpha      alpha0  # evals  Notes \n",
      "     155       451.709   0.000185872       84.4313     3.9e-06       0.001      245  LS failed, Hessian reset \n",
      "     199       451.872   8.44141e-05       56.0574      0.5636           1      296   \n",
      "    Iter      log prob        ||dx||      ||grad||       alpha      alpha0  # evals  Notes \n",
      "     299       452.598     0.0313561       102.286      0.9683           1      420   \n",
      "    Iter      log prob        ||dx||      ||grad||       alpha      alpha0  # evals  Notes \n",
      "     300       452.617   0.000446882       108.925   4.369e-06       0.001      499  LS failed, Hessian reset \n",
      "     386        453.08   1.71918e-05       65.6637   2.482e-07       0.001      648  LS failed, Hessian reset \n",
      "     399       453.081   6.92601e-07       51.7009       1.002      0.2039      667   \n",
      "    Iter      log prob        ||dx||      ||grad||       alpha      alpha0  # evals  Notes \n",
      "     408       453.081   3.47948e-09       59.4053     0.01718           1      682   \u001b[0m\n",
      "\u001b[34mOptimization terminated normally: \n",
      "  Convergence detected: absolute parameter change was below tolerance\u001b[0m\n",
      "\u001b[34mTraining complete.\u001b[0m\n",
      "\n",
      "2019-12-27 16:02:45 Uploading - Uploading generated training model\n",
      "2019-12-27 16:02:45 Completed - Training job completed\n",
      "Training seconds: 60\n",
      "Billable seconds: 60\n",
      "CPU times: user 362 ms, sys: 18 ms, total: 380 ms\n",
      "Wall time: 3min 11s\n"
     ]
    }
   ],
   "source": [
    "%%time\n",
    "\n",
    "account = sess.boto_session.client('sts').get_caller_identity()['Account']\n",
    "region = sess.boto_session.region_name\n",
    "image = '{}.dkr.ecr.{}.amazonaws.com/sagemaker-prophet:latest'.format(account, region)\n",
    "\n",
    "tseries = sage.estimator.Estimator(image,\n",
    "                       role, \n",
    "                        1, \n",
    "                        'ml.c4.2xlarge',\n",
    "                       output_path=\"s3://{}/output\".format(sess.default_bucket()),\n",
    "                       sagemaker_session=sess)\n",
    "\n",
    "tseries.fit(data_location)"
   ]
  },
  {
   "cell_type": "markdown",
   "metadata": {},
   "source": [
    "\n",
    "## Endpoint assembly for inference\n",
    "Using the newly trained model, we create an endpoint for inference hosted on an ml.c4.2xlarge instance"
   ]
  },
  {
   "cell_type": "code",
   "execution_count": 7,
   "metadata": {},
   "outputs": [
    {
     "name": "stdout",
     "output_type": "stream",
     "text": [
      "---------------------------------------------------------------------------------------------------------------!CPU times: user 518 ms, sys: 39.5 ms, total: 557 ms\n",
      "Wall time: 9min 20s\n"
     ]
    }
   ],
   "source": [
    "%%time\n",
    "\n",
    "from sagemaker.predictor import csv_serializer\n",
    "predictor = tseries.deploy(1, 'ml.m4.xlarge', serializer=csv_serializer)"
   ]
  },
  {
   "cell_type": "markdown",
   "metadata": {},
   "source": [
    "## Inference test\n",
    "Finally we ask the model to predict the sales for the next 30 days."
   ]
  },
  {
   "cell_type": "code",
   "execution_count": 8,
   "metadata": {},
   "outputs": [
    {
     "name": "stdout",
     "output_type": "stream",
     "text": [
      "b'\"            ds     trend  trend_lower  ...  yearly_lower  yearly_upper      yhat\\n169 2018-03-26  1.473312     1.473312  ...     -0.076117     -0.076117  1.397195\\n170 2018-03-27  1.472971     1.472971  ...     -0.072531     -0.072531  1.400440\\n171 2018-03-28  1.472631     1.472631  ...     -0.068829     -0.068829  1.403802\\n172 2018-03-29  1.472291     1.472291  ...     -0.065070     -0.065070  1.407221\\n173 2018-03-30  1.471950     1.471950  ...     -0.061313     -0.061313  1.410637\\n174 2018-03-31  1.471610     1.471610  ...     -0.057619     -0.057619  1.413991\\n175 2018-04-01  1.471270     1.471270  ...     -0.054048     -0.054048  1.417222\\n176 2018-04-02  1.470929     1.470929  ...     -0.050657     -0.050657  1.420273\\n177 2018-04-03  1.470589     1.470589  ...     -0.047500     -0.047500  1.423089\\n178 2018-04-04  1.470248     1.470241  ...     -0.044627     -0.044627  1.425622\\n179 2018-04-05  1.469908     1.469861  ...     -0.042080     -0.042080  1.427828\\n180 2018-04-06  1.469568     1.469467  ...     -0.039896     -0.039896  1.429672\\n181 2018-04-07  1.469227     1.469070  ...     -0.038104     -0.038104  1.431123\\n182 2018-04-08  1.468887     1.468698  ...     -0.036725     -0.036725  1.432162\\n183 2018-04-09  1.468547     1.468307  ...     -0.035770     -0.035770  1.432776\\n184 2018-04-10  1.468206     1.467909  ...     -0.035245     -0.035245  1.432961\\n185 2018-04-11  1.467866     1.467514  ...     -0.035144     -0.035144  1.432722\\n186 2018-04-12  1.467526     1.467111  ...     -0.035454     -0.035454  1.432072\\n187 2018-04-13  1.467185     1.466734  ...     -0.036155     -0.036155  1.431030\\n188 2018-04-14  1.466845     1.466344  ...     -0.037221     -0.037221  1.429624\\n189 2018-04-15  1.466505     1.465922  ...     -0.038616     -0.038616  1.427889\\n190 2018-04-16  1.466164     1.465522  ...     -0.040301     -0.040301  1.425863\\n191 2018-04-17  1.465824     1.465120  ...     -0.042234     -0.042234  1.423590\\n192 2018-04-18  1.465483     1.464696  ...     -0.044367     -0.044367  1.421117\\n193 2018-04-19  1.465143     1.464293  ...     -0.046650     -0.046650  1.418493\\n194 2018-04-20  1.464803     1.463839  ...     -0.049034     -0.049034  1.415769\\n195 2018-04-21  1.464462     1.463360  ...     -0.051467     -0.051467  1.412995\\n196 2018-04-22  1.464122     1.462924  ...     -0.053900     -0.053900  1.410222\\n197 2018-04-23  1.463782     1.462459  ...     -0.056284     -0.056284  1.407497\\n198 2018-04-24  1.463441     1.461976  ...     -0.058574     -0.058574  1.404867\\n\\n[30 rows x 16 columns]\"\\n'\n",
      "CPU times: user 11.5 ms, sys: 0 ns, total: 11.5 ms\n",
      "Wall time: 3.03 s\n"
     ]
    }
   ],
   "source": [
    "%%time\n",
    "p = predictor.predict(\"30\")\n",
    "print(p)"
   ]
  },
  {
   "cell_type": "code",
   "execution_count": null,
   "metadata": {},
   "outputs": [],
   "source": []
  }
 ],
 "metadata": {
  "kernelspec": {
   "display_name": "conda_python3",
   "language": "python",
   "name": "conda_python3"
  },
  "language_info": {
   "codemirror_mode": {
    "name": "ipython",
    "version": 3
   },
   "file_extension": ".py",
   "mimetype": "text/x-python",
   "name": "python",
   "nbconvert_exporter": "python",
   "pygments_lexer": "ipython3",
   "version": "3.6.5"
  }
 },
 "nbformat": 4,
 "nbformat_minor": 4
}